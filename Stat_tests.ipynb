{
 "cells": [
  {
   "cell_type": "code",
   "execution_count": 1,
   "id": "0c30d59a",
   "metadata": {},
   "outputs": [],
   "source": [
    "import glob\n",
    "import pandas as pd"
   ]
  },
  {
   "cell_type": "code",
   "execution_count": 2,
   "id": "8bfb9e2b",
   "metadata": {},
   "outputs": [],
   "source": [
    "path = \"A:/Sp23 - Predictive Analytics/Conagra Data Files/Data\""
   ]
  },
  {
   "cell_type": "code",
   "execution_count": 3,
   "id": "63aab574",
   "metadata": {},
   "outputs": [],
   "source": [
    "file_list = glob.glob(path + \"/IRI_POS_Tablespreads_20*.xlsx\")"
   ]
  },
  {
   "cell_type": "code",
   "execution_count": 4,
   "id": "d61972a8",
   "metadata": {},
   "outputs": [],
   "source": [
    "excel_list =[]"
   ]
  },
  {
   "cell_type": "code",
   "execution_count": 5,
   "id": "7a3b665f",
   "metadata": {},
   "outputs": [],
   "source": [
    "for file in file_list:\n",
    "    excel_list.append(pd.read_excel(file))"
   ]
  },
  {
   "cell_type": "code",
   "execution_count": 6,
   "id": "ddbb4991",
   "metadata": {},
   "outputs": [],
   "source": [
    "excel_merged = pd.concat(excel_list, ignore_index = True)"
   ]
  },
  {
   "cell_type": "code",
   "execution_count": 7,
   "id": "cb948d19",
   "metadata": {},
   "outputs": [],
   "source": [
    "ts_merged = pd.DataFrame(excel_merged)"
   ]
  },
  {
   "cell_type": "code",
   "execution_count": 8,
   "id": "8a719a93",
   "metadata": {},
   "outputs": [],
   "source": [
    "ts_merged['Time'] = ts_merged[\"Time\"].str[-8:]\n",
    "ts_merged[\"Time\"] = pd.to_datetime(ts_merged[\"Time\"], format = '%m-%d-%y')"
   ]
  },
  {
   "cell_type": "code",
   "execution_count": 9,
   "id": "fe97f773",
   "metadata": {},
   "outputs": [],
   "source": [
    "ts_attribute = pd.read_excel(path + \"/IRI_POS_Tablespreads_Product Attribute File.xlsx\")"
   ]
  },
  {
   "cell_type": "code",
   "execution_count": 10,
   "id": "1b9d4a7b",
   "metadata": {},
   "outputs": [],
   "source": [
    "ts_joined = pd.merge(ts_merged,ts_attribute,on =\"UPC 13 digit\",  how='left')"
   ]
  },
  {
   "cell_type": "code",
   "execution_count": 11,
   "id": "99e4a489",
   "metadata": {},
   "outputs": [],
   "source": [
    "ts_joined = ts_joined.drop(columns = [\"Geography_y\", \"Time_y\"])"
   ]
  },
  {
   "cell_type": "code",
   "execution_count": 12,
   "id": "f114ebfe",
   "metadata": {},
   "outputs": [],
   "source": [
    "ts_joined[\"Total_sales\"] = ts_joined[\"Base Dollar Sales\"] + ts_joined[\"Incremental Dollars\"]"
   ]
  },
  {
   "cell_type": "code",
   "execution_count": 13,
   "id": "509f7066",
   "metadata": {},
   "outputs": [],
   "source": [
    "#ts_joined.dtypes"
   ]
  },
  {
   "cell_type": "code",
   "execution_count": 14,
   "id": "e874895f",
   "metadata": {},
   "outputs": [],
   "source": [
    "#ts_joined.head()"
   ]
  },
  {
   "cell_type": "code",
   "execution_count": 15,
   "id": "1703be06",
   "metadata": {},
   "outputs": [],
   "source": [
    "#ANOVA TEST FOR FORM AND TOTAL SALES\n",
    "#There is no significan difference between the means of total sales of all different forms"
   ]
  },
  {
   "cell_type": "code",
   "execution_count": 16,
   "id": "a4de887a",
   "metadata": {},
   "outputs": [],
   "source": [
    "form_sales = ts_joined[[\"CAG Form Value\", \"Total_sales\"]]"
   ]
  },
  {
   "cell_type": "code",
   "execution_count": 17,
   "id": "55c11038",
   "metadata": {},
   "outputs": [
    {
     "name": "stderr",
     "output_type": "stream",
     "text": [
      "C:\\Users\\arshi\\AppData\\Local\\Temp\\ipykernel_28540\\3594466020.py:1: SettingWithCopyWarning: \n",
      "A value is trying to be set on a copy of a slice from a DataFrame\n",
      "\n",
      "See the caveats in the documentation: https://pandas.pydata.org/pandas-docs/stable/user_guide/indexing.html#returning-a-view-versus-a-copy\n",
      "  form_sales.rename(columns = {'CAG Form Value':'CAG_Form_Value'}, inplace = True)\n"
     ]
    }
   ],
   "source": [
    "form_sales.rename(columns = {'CAG Form Value':'CAG_Form_Value'}, inplace = True)"
   ]
  },
  {
   "cell_type": "code",
   "execution_count": 18,
   "id": "84922b37",
   "metadata": {},
   "outputs": [
    {
     "data": {
      "text/plain": [
       "(1316655, 2)"
      ]
     },
     "execution_count": 18,
     "metadata": {},
     "output_type": "execute_result"
    }
   ],
   "source": [
    "form_sales.shape"
   ]
  },
  {
   "cell_type": "code",
   "execution_count": 19,
   "id": "866b03d0",
   "metadata": {},
   "outputs": [],
   "source": [
    "form_sales = form_sales.dropna()"
   ]
  },
  {
   "cell_type": "code",
   "execution_count": 20,
   "id": "645efccd",
   "metadata": {},
   "outputs": [
    {
     "data": {
      "text/plain": [
       "(786518, 2)"
      ]
     },
     "execution_count": 20,
     "metadata": {},
     "output_type": "execute_result"
    }
   ],
   "source": [
    "form_sales.shape"
   ]
  },
  {
   "cell_type": "code",
   "execution_count": 21,
   "id": "1fdd8443",
   "metadata": {},
   "outputs": [
    {
     "name": "stdout",
     "output_type": "stream",
     "text": [
      "                      sum_sq        df           F  PR(>F)\n",
      "CAG_Form_Value  2.505742e+14       3.0  2109.94286     0.0\n",
      "Residual        3.113514e+16  786514.0         NaN     NaN\n"
     ]
    }
   ],
   "source": [
    "import statsmodels.api as sm\n",
    "from statsmodels.formula.api import ols\n",
    "\n",
    "mod_FS = ols('Total_sales ~ CAG_Form_Value',\n",
    "                data=form_sales).fit()\n",
    "                \n",
    "aov_table_FS = sm.stats.anova_lm(mod_FS, typ=2)\n",
    "print(aov_table_FS)"
   ]
  },
  {
   "cell_type": "code",
   "execution_count": 23,
   "id": "4347ae86",
   "metadata": {},
   "outputs": [
    {
     "name": "stdout",
     "output_type": "stream",
     "text": [
      "                      sum_sq        df           F  PR(>F)     EtaSq\n",
      "CAG_Form_Value  2.505742e+14       3.0  2109.94286     0.0  0.007984\n",
      "Residual        3.113514e+16  786514.0         NaN     NaN       NaN\n"
     ]
    }
   ],
   "source": [
    "esq_sm_FS = aov_table_FS['sum_sq'][0]/(aov_table_FS['sum_sq'][0]+aov_table_FS['sum_sq'][1])\n",
    "aov_table_FS['EtaSq'] = [esq_sm_FS, 'NaN']\n",
    "print(aov_table_FS)"
   ]
  },
  {
   "cell_type": "code",
   "execution_count": 24,
   "id": "c0914601",
   "metadata": {},
   "outputs": [
    {
     "data": {
      "text/html": [
       "<table class=\"simpletable\">\n",
       "<caption>OLS Regression Results</caption>\n",
       "<tr>\n",
       "  <th>Dep. Variable:</th>       <td>Total_sales</td>   <th>  R-squared:         </th>  <td>   0.008</td>  \n",
       "</tr>\n",
       "<tr>\n",
       "  <th>Model:</th>                   <td>OLS</td>       <th>  Adj. R-squared:    </th>  <td>   0.008</td>  \n",
       "</tr>\n",
       "<tr>\n",
       "  <th>Method:</th>             <td>Least Squares</td>  <th>  F-statistic:       </th>  <td>   2110.</td>  \n",
       "</tr>\n",
       "<tr>\n",
       "  <th>Date:</th>             <td>Sun, 23 Apr 2023</td> <th>  Prob (F-statistic):</th>   <td>  0.00</td>   \n",
       "</tr>\n",
       "<tr>\n",
       "  <th>Time:</th>                 <td>13:11:11</td>     <th>  Log-Likelihood:    </th> <td>-1.0712e+07</td>\n",
       "</tr>\n",
       "<tr>\n",
       "  <th>No. Observations:</th>      <td>786518</td>      <th>  AIC:               </th>  <td>2.142e+07</td> \n",
       "</tr>\n",
       "<tr>\n",
       "  <th>Df Residuals:</th>          <td>786514</td>      <th>  BIC:               </th>  <td>2.142e+07</td> \n",
       "</tr>\n",
       "<tr>\n",
       "  <th>Df Model:</th>              <td>     3</td>      <th>                     </th>      <td> </td>     \n",
       "</tr>\n",
       "<tr>\n",
       "  <th>Covariance Type:</th>      <td>nonrobust</td>    <th>                     </th>      <td> </td>     \n",
       "</tr>\n",
       "</table>\n",
       "<table class=\"simpletable\">\n",
       "<tr>\n",
       "                 <td></td>                    <th>coef</th>     <th>std err</th>      <th>t</th>      <th>P>|t|</th>  <th>[0.025</th>    <th>0.975]</th>  \n",
       "</tr>\n",
       "<tr>\n",
       "  <th>Intercept</th>                       <td> 2.517e+04</td> <td>  600.436</td> <td>   41.916</td> <td> 0.000</td> <td>  2.4e+04</td> <td> 2.63e+04</td>\n",
       "</tr>\n",
       "<tr>\n",
       "  <th>CAG_Form_Value[T.SPRAY/SQUEEZE]</th> <td> 3.371e+04</td> <td> 1905.811</td> <td>   17.689</td> <td> 0.000</td> <td>    3e+04</td> <td> 3.74e+04</td>\n",
       "</tr>\n",
       "<tr>\n",
       "  <th>CAG_Form_Value[T.STICKS]</th>        <td> 4.878e+04</td> <td>  697.696</td> <td>   69.919</td> <td> 0.000</td> <td> 4.74e+04</td> <td> 5.01e+04</td>\n",
       "</tr>\n",
       "<tr>\n",
       "  <th>CAG_Form_Value[T.TUBS]</th>          <td> 1.894e+04</td> <td>  687.954</td> <td>   27.531</td> <td> 0.000</td> <td> 1.76e+04</td> <td> 2.03e+04</td>\n",
       "</tr>\n",
       "</table>\n",
       "<table class=\"simpletable\">\n",
       "<tr>\n",
       "  <th>Omnibus:</th>       <td>1728969.135</td> <th>  Durbin-Watson:     </th>    <td>   1.423</td>    \n",
       "</tr>\n",
       "<tr>\n",
       "  <th>Prob(Omnibus):</th>   <td> 0.000</td>    <th>  Jarque-Bera (JB):  </th> <td>23325345052.879</td>\n",
       "</tr>\n",
       "<tr>\n",
       "  <th>Skew:</th>            <td>19.876</td>    <th>  Prob(JB):          </th>    <td>    0.00</td>    \n",
       "</tr>\n",
       "<tr>\n",
       "  <th>Kurtosis:</th>        <td>845.719</td>   <th>  Cond. No.          </th>    <td>    10.2</td>    \n",
       "</tr>\n",
       "</table><br/><br/>Notes:<br/>[1] Standard Errors assume that the covariance matrix of the errors is correctly specified."
      ],
      "text/plain": [
       "<class 'statsmodels.iolib.summary.Summary'>\n",
       "\"\"\"\n",
       "                            OLS Regression Results                            \n",
       "==============================================================================\n",
       "Dep. Variable:            Total_sales   R-squared:                       0.008\n",
       "Model:                            OLS   Adj. R-squared:                  0.008\n",
       "Method:                 Least Squares   F-statistic:                     2110.\n",
       "Date:                Sun, 23 Apr 2023   Prob (F-statistic):               0.00\n",
       "Time:                        13:11:11   Log-Likelihood:            -1.0712e+07\n",
       "No. Observations:              786518   AIC:                         2.142e+07\n",
       "Df Residuals:                  786514   BIC:                         2.142e+07\n",
       "Df Model:                           3                                         \n",
       "Covariance Type:            nonrobust                                         \n",
       "===================================================================================================\n",
       "                                      coef    std err          t      P>|t|      [0.025      0.975]\n",
       "---------------------------------------------------------------------------------------------------\n",
       "Intercept                        2.517e+04    600.436     41.916      0.000     2.4e+04    2.63e+04\n",
       "CAG_Form_Value[T.SPRAY/SQUEEZE]  3.371e+04   1905.811     17.689      0.000       3e+04    3.74e+04\n",
       "CAG_Form_Value[T.STICKS]         4.878e+04    697.696     69.919      0.000    4.74e+04    5.01e+04\n",
       "CAG_Form_Value[T.TUBS]           1.894e+04    687.954     27.531      0.000    1.76e+04    2.03e+04\n",
       "==============================================================================\n",
       "Omnibus:                  1728969.135   Durbin-Watson:                   1.423\n",
       "Prob(Omnibus):                  0.000   Jarque-Bera (JB):      23325345052.879\n",
       "Skew:                          19.876   Prob(JB):                         0.00\n",
       "Kurtosis:                     845.719   Cond. No.                         10.2\n",
       "==============================================================================\n",
       "\n",
       "Notes:\n",
       "[1] Standard Errors assume that the covariance matrix of the errors is correctly specified.\n",
       "\"\"\""
      ]
     },
     "execution_count": 24,
     "metadata": {},
     "output_type": "execute_result"
    }
   ],
   "source": [
    "#R2 and Adjusted R2\n",
    "mod_FS.summary()"
   ]
  },
  {
   "cell_type": "code",
   "execution_count": 25,
   "id": "ce441363",
   "metadata": {},
   "outputs": [],
   "source": [
    "#ANOVA TEST FOR GEOGRAPHY AND TOTAL SALES\n",
    "#There is no significant difference between the means of 8 geographical locations"
   ]
  },
  {
   "cell_type": "code",
   "execution_count": 26,
   "id": "a986c5c2",
   "metadata": {},
   "outputs": [],
   "source": [
    "geo_sales = ts_joined[[\"Geography_x\", \"Total_sales\"]]"
   ]
  },
  {
   "cell_type": "code",
   "execution_count": 27,
   "id": "de22707a",
   "metadata": {},
   "outputs": [
    {
     "data": {
      "text/plain": [
       "(1316655, 2)"
      ]
     },
     "execution_count": 27,
     "metadata": {},
     "output_type": "execute_result"
    }
   ],
   "source": [
    "geo_sales.shape"
   ]
  },
  {
   "cell_type": "code",
   "execution_count": 28,
   "id": "b3ba7e0b",
   "metadata": {},
   "outputs": [],
   "source": [
    "geo_sales = geo_sales.dropna()"
   ]
  },
  {
   "cell_type": "code",
   "execution_count": 29,
   "id": "ca724d6d",
   "metadata": {},
   "outputs": [
    {
     "data": {
      "text/plain": [
       "(789822, 2)"
      ]
     },
     "execution_count": 29,
     "metadata": {},
     "output_type": "execute_result"
    }
   ],
   "source": [
    "geo_sales.shape"
   ]
  },
  {
   "cell_type": "code",
   "execution_count": 30,
   "id": "315a4833",
   "metadata": {},
   "outputs": [
    {
     "name": "stdout",
     "output_type": "stream",
     "text": [
      "                   sum_sq        df            F  PR(>F)\n",
      "Geography_x  9.189291e+14       8.0  2976.438939     0.0\n",
      "Residual     3.048030e+16  789813.0          NaN     NaN\n"
     ]
    }
   ],
   "source": [
    "mod_GS = ols('Total_sales ~ Geography_x',\n",
    "                data=geo_sales).fit()\n",
    "                \n",
    "aov_table_GS = sm.stats.anova_lm(mod_GS, typ=2)\n",
    "print(aov_table_GS)"
   ]
  },
  {
   "cell_type": "code",
   "execution_count": 31,
   "id": "44a831e5",
   "metadata": {},
   "outputs": [
    {
     "name": "stdout",
     "output_type": "stream",
     "text": [
      "                   sum_sq        df            F  PR(>F)     EtaSq\n",
      "Geography_x  9.189291e+14       8.0  2976.438939     0.0  0.029266\n",
      "Residual     3.048030e+16  789813.0          NaN     NaN       NaN\n"
     ]
    }
   ],
   "source": [
    "esq_sm_GS = aov_table_GS['sum_sq'][0]/(aov_table_GS['sum_sq'][0]+aov_table_GS['sum_sq'][1])\n",
    "aov_table_GS['EtaSq'] = [esq_sm_GS, 'NaN']\n",
    "print(aov_table_GS)"
   ]
  },
  {
   "cell_type": "code",
   "execution_count": 32,
   "id": "1c43c176",
   "metadata": {},
   "outputs": [
    {
     "data": {
      "text/html": [
       "<table class=\"simpletable\">\n",
       "<caption>OLS Regression Results</caption>\n",
       "<tr>\n",
       "  <th>Dep. Variable:</th>       <td>Total_sales</td>   <th>  R-squared:         </th>  <td>   0.029</td>  \n",
       "</tr>\n",
       "<tr>\n",
       "  <th>Model:</th>                   <td>OLS</td>       <th>  Adj. R-squared:    </th>  <td>   0.029</td>  \n",
       "</tr>\n",
       "<tr>\n",
       "  <th>Method:</th>             <td>Least Squares</td>  <th>  F-statistic:       </th>  <td>   2976.</td>  \n",
       "</tr>\n",
       "<tr>\n",
       "  <th>Date:</th>             <td>Sun, 23 Apr 2023</td> <th>  Prob (F-statistic):</th>   <td>  0.00</td>   \n",
       "</tr>\n",
       "<tr>\n",
       "  <th>Time:</th>                 <td>13:11:13</td>     <th>  Log-Likelihood:    </th> <td>-1.0747e+07</td>\n",
       "</tr>\n",
       "<tr>\n",
       "  <th>No. Observations:</th>      <td>789822</td>      <th>  AIC:               </th>  <td>2.149e+07</td> \n",
       "</tr>\n",
       "<tr>\n",
       "  <th>Df Residuals:</th>          <td>789813</td>      <th>  BIC:               </th>  <td>2.149e+07</td> \n",
       "</tr>\n",
       "<tr>\n",
       "  <th>Df Model:</th>              <td>     8</td>      <th>                     </th>      <td> </td>     \n",
       "</tr>\n",
       "<tr>\n",
       "  <th>Covariance Type:</th>      <td>nonrobust</td>    <th>                     </th>      <td> </td>     \n",
       "</tr>\n",
       "</table>\n",
       "<table class=\"simpletable\">\n",
       "<tr>\n",
       "                                  <td></td>                                     <th>coef</th>     <th>std err</th>      <th>t</th>      <th>P>|t|</th>  <th>[0.025</th>    <th>0.975]</th>  \n",
       "</tr>\n",
       "<tr>\n",
       "  <th>Intercept</th>                                                         <td> 3.292e+04</td> <td>  809.209</td> <td>   40.680</td> <td> 0.000</td> <td> 3.13e+04</td> <td> 3.45e+04</td>\n",
       "</tr>\n",
       "<tr>\n",
       "  <th>Geography_x[T.Great Lakes - IRI Standard - Multi Outlet + Conv]</th>   <td> 4484.8531</td> <td> 1055.296</td> <td>    4.250</td> <td> 0.000</td> <td> 2416.507</td> <td> 6553.199</td>\n",
       "</tr>\n",
       "<tr>\n",
       "  <th>Geography_x[T.Mid-South - IRI Standard - Multi Outlet + Conv]</th>     <td>-3256.1046</td> <td> 1044.833</td> <td>   -3.116</td> <td> 0.002</td> <td>-5303.942</td> <td>-1208.267</td>\n",
       "</tr>\n",
       "<tr>\n",
       "  <th>Geography_x[T.Northeast - IRI Standard - Multi Outlet + Conv]</th>     <td> 1.289e+04</td> <td> 1038.305</td> <td>   12.413</td> <td> 0.000</td> <td> 1.09e+04</td> <td> 1.49e+04</td>\n",
       "</tr>\n",
       "<tr>\n",
       "  <th>Geography_x[T.Plains - IRI Standard - Multi Outlet + Conv]</th>        <td>-1.307e+04</td> <td> 1082.400</td> <td>  -12.078</td> <td> 0.000</td> <td>-1.52e+04</td> <td> -1.1e+04</td>\n",
       "</tr>\n",
       "<tr>\n",
       "  <th>Geography_x[T.South Central - IRI Standard - Multi Outlet + Conv]</th> <td>  185.5744</td> <td> 1126.793</td> <td>    0.165</td> <td> 0.869</td> <td>-2022.902</td> <td> 2394.051</td>\n",
       "</tr>\n",
       "<tr>\n",
       "  <th>Geography_x[T.Southeast - IRI Standard - Multi Outlet + Conv]</th>     <td> 1.061e+04</td> <td> 1098.981</td> <td>    9.656</td> <td> 0.000</td> <td> 8458.230</td> <td> 1.28e+04</td>\n",
       "</tr>\n",
       "<tr>\n",
       "  <th>Geography_x[T.Total US - Multi Outlet + Conv]</th>                     <td> 8.016e+04</td> <td>  926.759</td> <td>   86.500</td> <td> 0.000</td> <td> 7.83e+04</td> <td>  8.2e+04</td>\n",
       "</tr>\n",
       "<tr>\n",
       "  <th>Geography_x[T.West - IRI Standard - Multi Outlet + Conv]</th>          <td>  865.6192</td> <td> 1095.039</td> <td>    0.790</td> <td> 0.429</td> <td>-1280.621</td> <td> 3011.859</td>\n",
       "</tr>\n",
       "</table>\n",
       "<table class=\"simpletable\">\n",
       "<tr>\n",
       "  <th>Omnibus:</th>       <td>1741475.112</td> <th>  Durbin-Watson:     </th>    <td>   1.459</td>    \n",
       "</tr>\n",
       "<tr>\n",
       "  <th>Prob(Omnibus):</th>   <td> 0.000</td>    <th>  Jarque-Bera (JB):  </th> <td>24762452817.075</td>\n",
       "</tr>\n",
       "<tr>\n",
       "  <th>Skew:</th>            <td>20.000</td>    <th>  Prob(JB):          </th>    <td>    0.00</td>    \n",
       "</tr>\n",
       "<tr>\n",
       "  <th>Kurtosis:</th>        <td>869.514</td>   <th>  Cond. No.          </th>    <td>    12.1</td>    \n",
       "</tr>\n",
       "</table><br/><br/>Notes:<br/>[1] Standard Errors assume that the covariance matrix of the errors is correctly specified."
      ],
      "text/plain": [
       "<class 'statsmodels.iolib.summary.Summary'>\n",
       "\"\"\"\n",
       "                            OLS Regression Results                            \n",
       "==============================================================================\n",
       "Dep. Variable:            Total_sales   R-squared:                       0.029\n",
       "Model:                            OLS   Adj. R-squared:                  0.029\n",
       "Method:                 Least Squares   F-statistic:                     2976.\n",
       "Date:                Sun, 23 Apr 2023   Prob (F-statistic):               0.00\n",
       "Time:                        13:11:13   Log-Likelihood:            -1.0747e+07\n",
       "No. Observations:              789822   AIC:                         2.149e+07\n",
       "Df Residuals:                  789813   BIC:                         2.149e+07\n",
       "Df Model:                           8                                         \n",
       "Covariance Type:            nonrobust                                         \n",
       "=====================================================================================================================================\n",
       "                                                                        coef    std err          t      P>|t|      [0.025      0.975]\n",
       "-------------------------------------------------------------------------------------------------------------------------------------\n",
       "Intercept                                                          3.292e+04    809.209     40.680      0.000    3.13e+04    3.45e+04\n",
       "Geography_x[T.Great Lakes - IRI Standard - Multi Outlet + Conv]    4484.8531   1055.296      4.250      0.000    2416.507    6553.199\n",
       "Geography_x[T.Mid-South - IRI Standard - Multi Outlet + Conv]     -3256.1046   1044.833     -3.116      0.002   -5303.942   -1208.267\n",
       "Geography_x[T.Northeast - IRI Standard - Multi Outlet + Conv]      1.289e+04   1038.305     12.413      0.000    1.09e+04    1.49e+04\n",
       "Geography_x[T.Plains - IRI Standard - Multi Outlet + Conv]        -1.307e+04   1082.400    -12.078      0.000   -1.52e+04    -1.1e+04\n",
       "Geography_x[T.South Central - IRI Standard - Multi Outlet + Conv]   185.5744   1126.793      0.165      0.869   -2022.902    2394.051\n",
       "Geography_x[T.Southeast - IRI Standard - Multi Outlet + Conv]      1.061e+04   1098.981      9.656      0.000    8458.230    1.28e+04\n",
       "Geography_x[T.Total US - Multi Outlet + Conv]                      8.016e+04    926.759     86.500      0.000    7.83e+04     8.2e+04\n",
       "Geography_x[T.West - IRI Standard - Multi Outlet + Conv]            865.6192   1095.039      0.790      0.429   -1280.621    3011.859\n",
       "==============================================================================\n",
       "Omnibus:                  1741475.112   Durbin-Watson:                   1.459\n",
       "Prob(Omnibus):                  0.000   Jarque-Bera (JB):      24762452817.075\n",
       "Skew:                          20.000   Prob(JB):                         0.00\n",
       "Kurtosis:                     869.514   Cond. No.                         12.1\n",
       "==============================================================================\n",
       "\n",
       "Notes:\n",
       "[1] Standard Errors assume that the covariance matrix of the errors is correctly specified.\n",
       "\"\"\""
      ]
     },
     "execution_count": 32,
     "metadata": {},
     "output_type": "execute_result"
    }
   ],
   "source": [
    "#R2 and Adjusted R2\n",
    "mod_GS.summary()"
   ]
  },
  {
   "cell_type": "code",
   "execution_count": 33,
   "id": "9daaba0d",
   "metadata": {},
   "outputs": [],
   "source": [
    "#CHI SQUARE TEST FOR GEOGRAPHY AND FORM\n",
    "# Geo and form are independent"
   ]
  },
  {
   "cell_type": "code",
   "execution_count": 34,
   "id": "87bdb5bb",
   "metadata": {},
   "outputs": [],
   "source": [
    "import pandas as pd\n",
    "import numpy as np\n",
    "from scipy.stats import chi2_contingency\n",
    " \n",
    "import seaborn as sns\n",
    "import matplotlib.pyplot as plt\n",
    "%matplotlib inline "
   ]
  },
  {
   "cell_type": "code",
   "execution_count": 35,
   "id": "65d982ea",
   "metadata": {},
   "outputs": [],
   "source": [
    "geo_form = ts_joined[[\"Geography_x\", \"CAG Form Value\"]]"
   ]
  },
  {
   "cell_type": "code",
   "execution_count": 36,
   "id": "d6cd23f7",
   "metadata": {},
   "outputs": [
    {
     "data": {
      "text/html": [
       "<div>\n",
       "<style scoped>\n",
       "    .dataframe tbody tr th:only-of-type {\n",
       "        vertical-align: middle;\n",
       "    }\n",
       "\n",
       "    .dataframe tbody tr th {\n",
       "        vertical-align: top;\n",
       "    }\n",
       "\n",
       "    .dataframe thead th {\n",
       "        text-align: right;\n",
       "    }\n",
       "</style>\n",
       "<table border=\"1\" class=\"dataframe\">\n",
       "  <thead>\n",
       "    <tr style=\"text-align: right;\">\n",
       "      <th>CAG Form Value</th>\n",
       "      <th>ALL OTHER FORM</th>\n",
       "      <th>SPRAY/SQUEEZE</th>\n",
       "      <th>STICKS</th>\n",
       "      <th>TUBS</th>\n",
       "    </tr>\n",
       "    <tr>\n",
       "      <th>Geography_x</th>\n",
       "      <th></th>\n",
       "      <th></th>\n",
       "      <th></th>\n",
       "      <th></th>\n",
       "    </tr>\n",
       "  </thead>\n",
       "  <tbody>\n",
       "    <tr>\n",
       "      <th>California - IRI Standard - Multi Outlet + Conv</th>\n",
       "      <td>19522</td>\n",
       "      <td>1151</td>\n",
       "      <td>33144</td>\n",
       "      <td>40248</td>\n",
       "    </tr>\n",
       "    <tr>\n",
       "      <th>Great Lakes - IRI Standard - Multi Outlet + Conv</th>\n",
       "      <td>29909</td>\n",
       "      <td>1629</td>\n",
       "      <td>53456</td>\n",
       "      <td>60801</td>\n",
       "    </tr>\n",
       "    <tr>\n",
       "      <th>Mid-South - IRI Standard - Multi Outlet + Conv</th>\n",
       "      <td>20306</td>\n",
       "      <td>1660</td>\n",
       "      <td>55270</td>\n",
       "      <td>65888</td>\n",
       "    </tr>\n",
       "    <tr>\n",
       "      <th>Northeast - IRI Standard - Multi Outlet + Conv</th>\n",
       "      <td>37041</td>\n",
       "      <td>1611</td>\n",
       "      <td>62160</td>\n",
       "      <td>77663</td>\n",
       "    </tr>\n",
       "    <tr>\n",
       "      <th>Plains - IRI Standard - Multi Outlet + Conv</th>\n",
       "      <td>20065</td>\n",
       "      <td>1293</td>\n",
       "      <td>39970</td>\n",
       "      <td>50739</td>\n",
       "    </tr>\n",
       "    <tr>\n",
       "      <th>South Central - IRI Standard - Multi Outlet + Conv</th>\n",
       "      <td>16424</td>\n",
       "      <td>1459</td>\n",
       "      <td>35952</td>\n",
       "      <td>45642</td>\n",
       "    </tr>\n",
       "    <tr>\n",
       "      <th>Southeast - IRI Standard - Multi Outlet + Conv</th>\n",
       "      <td>18927</td>\n",
       "      <td>1436</td>\n",
       "      <td>41486</td>\n",
       "      <td>55213</td>\n",
       "    </tr>\n",
       "    <tr>\n",
       "      <th>Total US - Multi Outlet + Conv</th>\n",
       "      <td>70521</td>\n",
       "      <td>2810</td>\n",
       "      <td>118396</td>\n",
       "      <td>121947</td>\n",
       "    </tr>\n",
       "    <tr>\n",
       "      <th>West - IRI Standard - Multi Outlet + Conv</th>\n",
       "      <td>20074</td>\n",
       "      <td>2099</td>\n",
       "      <td>43287</td>\n",
       "      <td>43712</td>\n",
       "    </tr>\n",
       "  </tbody>\n",
       "</table>\n",
       "</div>"
      ],
      "text/plain": [
       "CAG Form Value                                      ALL OTHER FORM  \\\n",
       "Geography_x                                                          \n",
       "California - IRI Standard - Multi Outlet + Conv              19522   \n",
       "Great Lakes - IRI Standard - Multi Outlet + Conv             29909   \n",
       "Mid-South - IRI Standard - Multi Outlet + Conv               20306   \n",
       "Northeast - IRI Standard - Multi Outlet + Conv               37041   \n",
       "Plains - IRI Standard - Multi Outlet + Conv                  20065   \n",
       "South Central - IRI Standard - Multi Outlet + Conv           16424   \n",
       "Southeast - IRI Standard - Multi Outlet + Conv               18927   \n",
       "Total US - Multi Outlet + Conv                               70521   \n",
       "West - IRI Standard - Multi Outlet + Conv                    20074   \n",
       "\n",
       "CAG Form Value                                      SPRAY/SQUEEZE  STICKS  \\\n",
       "Geography_x                                                                 \n",
       "California - IRI Standard - Multi Outlet + Conv              1151   33144   \n",
       "Great Lakes - IRI Standard - Multi Outlet + Conv             1629   53456   \n",
       "Mid-South - IRI Standard - Multi Outlet + Conv               1660   55270   \n",
       "Northeast - IRI Standard - Multi Outlet + Conv               1611   62160   \n",
       "Plains - IRI Standard - Multi Outlet + Conv                  1293   39970   \n",
       "South Central - IRI Standard - Multi Outlet + Conv           1459   35952   \n",
       "Southeast - IRI Standard - Multi Outlet + Conv               1436   41486   \n",
       "Total US - Multi Outlet + Conv                               2810  118396   \n",
       "West - IRI Standard - Multi Outlet + Conv                    2099   43287   \n",
       "\n",
       "CAG Form Value                                        TUBS  \n",
       "Geography_x                                                 \n",
       "California - IRI Standard - Multi Outlet + Conv      40248  \n",
       "Great Lakes - IRI Standard - Multi Outlet + Conv     60801  \n",
       "Mid-South - IRI Standard - Multi Outlet + Conv       65888  \n",
       "Northeast - IRI Standard - Multi Outlet + Conv       77663  \n",
       "Plains - IRI Standard - Multi Outlet + Conv          50739  \n",
       "South Central - IRI Standard - Multi Outlet + Conv   45642  \n",
       "Southeast - IRI Standard - Multi Outlet + Conv       55213  \n",
       "Total US - Multi Outlet + Conv                      121947  \n",
       "West - IRI Standard - Multi Outlet + Conv            43712  "
      ]
     },
     "execution_count": 36,
     "metadata": {},
     "output_type": "execute_result"
    }
   ],
   "source": [
    "contigency= pd.crosstab(geo_form['Geography_x'], geo_form['CAG Form Value'])\n",
    "contigency"
   ]
  },
  {
   "cell_type": "code",
   "execution_count": 37,
   "id": "65f818ed",
   "metadata": {},
   "outputs": [
    {
     "data": {
      "text/html": [
       "<div>\n",
       "<style scoped>\n",
       "    .dataframe tbody tr th:only-of-type {\n",
       "        vertical-align: middle;\n",
       "    }\n",
       "\n",
       "    .dataframe tbody tr th {\n",
       "        vertical-align: top;\n",
       "    }\n",
       "\n",
       "    .dataframe thead th {\n",
       "        text-align: right;\n",
       "    }\n",
       "</style>\n",
       "<table border=\"1\" class=\"dataframe\">\n",
       "  <thead>\n",
       "    <tr style=\"text-align: right;\">\n",
       "      <th>CAG Form Value</th>\n",
       "      <th>ALL OTHER FORM</th>\n",
       "      <th>SPRAY/SQUEEZE</th>\n",
       "      <th>STICKS</th>\n",
       "      <th>TUBS</th>\n",
       "    </tr>\n",
       "    <tr>\n",
       "      <th>Geography_x</th>\n",
       "      <th></th>\n",
       "      <th></th>\n",
       "      <th></th>\n",
       "      <th></th>\n",
       "    </tr>\n",
       "  </thead>\n",
       "  <tbody>\n",
       "    <tr>\n",
       "      <th>California - IRI Standard - Multi Outlet + Conv</th>\n",
       "      <td>0.207537</td>\n",
       "      <td>0.012236</td>\n",
       "      <td>0.352352</td>\n",
       "      <td>0.427874</td>\n",
       "    </tr>\n",
       "    <tr>\n",
       "      <th>Great Lakes - IRI Standard - Multi Outlet + Conv</th>\n",
       "      <td>0.205144</td>\n",
       "      <td>0.011173</td>\n",
       "      <td>0.366652</td>\n",
       "      <td>0.417031</td>\n",
       "    </tr>\n",
       "    <tr>\n",
       "      <th>Mid-South - IRI Standard - Multi Outlet + Conv</th>\n",
       "      <td>0.141877</td>\n",
       "      <td>0.011598</td>\n",
       "      <td>0.386169</td>\n",
       "      <td>0.460356</td>\n",
       "    </tr>\n",
       "    <tr>\n",
       "      <th>Northeast - IRI Standard - Multi Outlet + Conv</th>\n",
       "      <td>0.207542</td>\n",
       "      <td>0.009026</td>\n",
       "      <td>0.348284</td>\n",
       "      <td>0.435148</td>\n",
       "    </tr>\n",
       "    <tr>\n",
       "      <th>Plains - IRI Standard - Multi Outlet + Conv</th>\n",
       "      <td>0.179045</td>\n",
       "      <td>0.011538</td>\n",
       "      <td>0.356662</td>\n",
       "      <td>0.452756</td>\n",
       "    </tr>\n",
       "    <tr>\n",
       "      <th>South Central - IRI Standard - Multi Outlet + Conv</th>\n",
       "      <td>0.165103</td>\n",
       "      <td>0.014667</td>\n",
       "      <td>0.361410</td>\n",
       "      <td>0.458820</td>\n",
       "    </tr>\n",
       "    <tr>\n",
       "      <th>Southeast - IRI Standard - Multi Outlet + Conv</th>\n",
       "      <td>0.161684</td>\n",
       "      <td>0.012267</td>\n",
       "      <td>0.354393</td>\n",
       "      <td>0.471656</td>\n",
       "    </tr>\n",
       "    <tr>\n",
       "      <th>Total US - Multi Outlet + Conv</th>\n",
       "      <td>0.224823</td>\n",
       "      <td>0.008958</td>\n",
       "      <td>0.377449</td>\n",
       "      <td>0.388770</td>\n",
       "    </tr>\n",
       "    <tr>\n",
       "      <th>West - IRI Standard - Multi Outlet + Conv</th>\n",
       "      <td>0.183875</td>\n",
       "      <td>0.019227</td>\n",
       "      <td>0.396503</td>\n",
       "      <td>0.400396</td>\n",
       "    </tr>\n",
       "  </tbody>\n",
       "</table>\n",
       "</div>"
      ],
      "text/plain": [
       "CAG Form Value                                      ALL OTHER FORM  \\\n",
       "Geography_x                                                          \n",
       "California - IRI Standard - Multi Outlet + Conv           0.207537   \n",
       "Great Lakes - IRI Standard - Multi Outlet + Conv          0.205144   \n",
       "Mid-South - IRI Standard - Multi Outlet + Conv            0.141877   \n",
       "Northeast - IRI Standard - Multi Outlet + Conv            0.207542   \n",
       "Plains - IRI Standard - Multi Outlet + Conv               0.179045   \n",
       "South Central - IRI Standard - Multi Outlet + Conv        0.165103   \n",
       "Southeast - IRI Standard - Multi Outlet + Conv            0.161684   \n",
       "Total US - Multi Outlet + Conv                            0.224823   \n",
       "West - IRI Standard - Multi Outlet + Conv                 0.183875   \n",
       "\n",
       "CAG Form Value                                      SPRAY/SQUEEZE    STICKS  \\\n",
       "Geography_x                                                                   \n",
       "California - IRI Standard - Multi Outlet + Conv          0.012236  0.352352   \n",
       "Great Lakes - IRI Standard - Multi Outlet + Conv         0.011173  0.366652   \n",
       "Mid-South - IRI Standard - Multi Outlet + Conv           0.011598  0.386169   \n",
       "Northeast - IRI Standard - Multi Outlet + Conv           0.009026  0.348284   \n",
       "Plains - IRI Standard - Multi Outlet + Conv              0.011538  0.356662   \n",
       "South Central - IRI Standard - Multi Outlet + Conv       0.014667  0.361410   \n",
       "Southeast - IRI Standard - Multi Outlet + Conv           0.012267  0.354393   \n",
       "Total US - Multi Outlet + Conv                           0.008958  0.377449   \n",
       "West - IRI Standard - Multi Outlet + Conv                0.019227  0.396503   \n",
       "\n",
       "CAG Form Value                                          TUBS  \n",
       "Geography_x                                                   \n",
       "California - IRI Standard - Multi Outlet + Conv     0.427874  \n",
       "Great Lakes - IRI Standard - Multi Outlet + Conv    0.417031  \n",
       "Mid-South - IRI Standard - Multi Outlet + Conv      0.460356  \n",
       "Northeast - IRI Standard - Multi Outlet + Conv      0.435148  \n",
       "Plains - IRI Standard - Multi Outlet + Conv         0.452756  \n",
       "South Central - IRI Standard - Multi Outlet + Conv  0.458820  \n",
       "Southeast - IRI Standard - Multi Outlet + Conv      0.471656  \n",
       "Total US - Multi Outlet + Conv                      0.388770  \n",
       "West - IRI Standard - Multi Outlet + Conv           0.400396  "
      ]
     },
     "execution_count": 37,
     "metadata": {},
     "output_type": "execute_result"
    }
   ],
   "source": [
    "contigency_pct = pd.crosstab(geo_form['Geography_x'], geo_form['CAG Form Value'], normalize='index')\n",
    "contigency_pct"
   ]
  },
  {
   "cell_type": "code",
   "execution_count": 38,
   "id": "0005f6af",
   "metadata": {},
   "outputs": [
    {
     "data": {
      "text/plain": [
       "<AxesSubplot:xlabel='CAG Form Value', ylabel='Geography_x'>"
      ]
     },
     "execution_count": 38,
     "metadata": {},
     "output_type": "execute_result"
    },
    {
     "data": {
      "image/png": "[encoded data removed]",
      "text/plain": [
       "<Figure size 864x576 with 2 Axes>"
      ]
     },
     "metadata": {
      "needs_background": "light"
     },
     "output_type": "display_data"
    }
   ],
   "source": [
    "plt.figure(figsize=(12,8))\n",
    "sns.heatmap(contigency, annot=True, cmap=\"YlGnBu\")"
   ]
  },
  {
   "cell_type": "code",
   "execution_count": 39,
   "id": "c684119c",
   "metadata": {},
   "outputs": [
    {
     "name": "stdout",
     "output_type": "stream",
     "text": [
      "c=  9538.940515074088\n",
      "p=  0.0\n",
      "dof=  24\n"
     ]
    }
   ],
   "source": [
    "c, p, dof, expected = chi2_contingency(contigency)\n",
    "print(\"c= \",c)\n",
    "print(\"p= \",p)\n",
    "print(\"dof= \",dof)"
   ]
  },
  {
   "cell_type": "code",
   "execution_count": null,
   "id": "45599821",
   "metadata": {},
   "outputs": [],
   "source": []
  }
 ],
 "metadata": {
  "kernelspec": {
   "display_name": "Python 3 (ipykernel)",
   "language": "python",
   "name": "python3"
  },
  "language_info": {
   "codemirror_mode": {
    "name": "ipython",
    "version": 3
   },
   "file_extension": ".py",
   "mimetype": "text/x-python",
   "name": "python",
   "nbconvert_exporter": "python",
   "pygments_lexer": "ipython3",
   "version": "3.9.12"
  }
 },
 "nbformat": 4,
 "nbformat_minor": 5
}
