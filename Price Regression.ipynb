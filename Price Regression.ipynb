{
 "cells": [
  {
   "cell_type": "code",
   "execution_count": 1,
   "id": "ce9cc2e2",
   "metadata": {},
   "outputs": [],
   "source": [
    "import glob\n",
    "import pandas as pd"
   ]
  },
  {
   "cell_type": "code",
   "execution_count": 2,
   "id": "b361a870",
   "metadata": {},
   "outputs": [],
   "source": [
    "path = \"A:/Sp23 - Predictive Analytics/Conagra Data Files/Data\""
   ]
  },
  {
   "cell_type": "code",
   "execution_count": 3,
   "id": "b4d17520",
   "metadata": {},
   "outputs": [],
   "source": [
    "file_list = glob.glob(path + \"/IRI_POS_Tablespreads_20*.xlsx\")"
   ]
  },
  {
   "cell_type": "code",
   "execution_count": 4,
   "id": "80442610",
   "metadata": {},
   "outputs": [],
   "source": [
    "excel_list =[]"
   ]
  },
  {
   "cell_type": "code",
   "execution_count": 5,
   "id": "5f91b3d9",
   "metadata": {},
   "outputs": [],
   "source": [
    "for file in file_list:\n",
    "    excel_list.append(pd.read_excel(file))"
   ]
  },
  {
   "cell_type": "code",
   "execution_count": 6,
   "id": "04770706",
   "metadata": {},
   "outputs": [],
   "source": [
    "excel_merged = pd.concat(excel_list, ignore_index = True)"
   ]
  },
  {
   "cell_type": "code",
   "execution_count": 7,
   "id": "c3030e56",
   "metadata": {},
   "outputs": [],
   "source": [
    "ts_merged = pd.DataFrame(excel_merged)"
   ]
  },
  {
   "cell_type": "code",
   "execution_count": 8,
   "id": "a687f77d",
   "metadata": {
    "scrolled": true
   },
   "outputs": [],
   "source": [
    "#ts_merged.head()"
   ]
  },
  {
   "cell_type": "code",
   "execution_count": 9,
   "id": "e0255fec",
   "metadata": {},
   "outputs": [],
   "source": [
    "ts_merged['Time'] = ts_merged[\"Time\"].str[-8:]"
   ]
  },
  {
   "cell_type": "code",
   "execution_count": 10,
   "id": "cc82da74",
   "metadata": {},
   "outputs": [],
   "source": [
    "ts_merged[\"Time\"] = pd.to_datetime(ts_merged[\"Time\"], format = '%m-%d-%y')"
   ]
  },
  {
   "cell_type": "code",
   "execution_count": 11,
   "id": "be786659",
   "metadata": {},
   "outputs": [],
   "source": [
    "#ts_merged.head()"
   ]
  },
  {
   "cell_type": "code",
   "execution_count": 12,
   "id": "f6b36bf1",
   "metadata": {},
   "outputs": [],
   "source": [
    "ts_attribute = pd.read_excel(path + \"/IRI_POS_Tablespreads_Product Attribute File.xlsx\")"
   ]
  },
  {
   "cell_type": "code",
   "execution_count": 13,
   "id": "f1b4d1c3",
   "metadata": {},
   "outputs": [],
   "source": [
    "ts_joined = pd.merge(ts_merged,ts_attribute,on =\"UPC 13 digit\",  how='left')"
   ]
  },
  {
   "cell_type": "code",
   "execution_count": 14,
   "id": "c54cf06f",
   "metadata": {},
   "outputs": [],
   "source": [
    "#ts_joined.head()"
   ]
  },
  {
   "cell_type": "code",
   "execution_count": 15,
   "id": "2f19e238",
   "metadata": {},
   "outputs": [],
   "source": [
    "ts_joined = ts_joined.reset_index(drop=True)"
   ]
  },
  {
   "cell_type": "code",
   "execution_count": 16,
   "id": "5244812b",
   "metadata": {},
   "outputs": [],
   "source": [
    "ts_joined = ts_joined.drop(columns = [\"Geography_y\", \"Time_y\"])"
   ]
  },
  {
   "cell_type": "code",
   "execution_count": 55,
   "id": "73761741",
   "metadata": {},
   "outputs": [
    {
     "data": {
      "text/plain": [
       "Geography_x                                    object\n",
       "Time_x                                 datetime64[ns]\n",
       "Product Description                            object\n",
       "UPC 13 digit                                    int64\n",
       "Dollar Sales No Merch                         float64\n",
       "Dollar Sales Any Merch                        float64\n",
       "Unit Sales No Merch                           float64\n",
       "Unit Sales Any Merch                          float64\n",
       "Volume Sales No Merch                         float64\n",
       "Volume Sales Any Merch                        float64\n",
       "Price per Unit                                float64\n",
       "Price per Unit No Merch                       float64\n",
       "Price per Unit Any Merch                      float64\n",
       "Price per Volume                              float64\n",
       "Price per Volume No Merch                     float64\n",
       "Price per Volume Any Merch                    float64\n",
       "ACV Weighted Distribution No Merch            float64\n",
       "ACV Weighted Distribution Any Merch           float64\n",
       "Base Unit Sales                               float64\n",
       "Base Volume Sales                             float64\n",
       "Base Dollar Sales                             float64\n",
       "Incremental Units                             float64\n",
       "Incremental Volume                            float64\n",
       "Incremental Dollars                           float64\n",
       "Product                                        object\n",
       "CAG Major Brand Value                          object\n",
       "CAG Manufacturer Value                         object\n",
       "Sub-Category Name                              object\n",
       "CAG Category Value                             object\n",
       "CAG Count Value                                object\n",
       "CAG Ounces Value                               object\n",
       "CAG Form Value                                 object\n",
       "Form                                           object\n",
       "CAG Tier Value                                 object\n",
       "dtype: object"
      ]
     },
     "execution_count": 55,
     "metadata": {},
     "output_type": "execute_result"
    }
   ],
   "source": [
    "ts_joined.dtypes"
   ]
  },
  {
   "cell_type": "code",
   "execution_count": 18,
   "id": "fa737a81",
   "metadata": {},
   "outputs": [],
   "source": [
    "ts_required = ts_joined[[\"Volume Sales No Merch\", \"CAG Manufacturer Value\", \"Price per Volume No Merch\", \"Geography_x\"]]"
   ]
  },
  {
   "cell_type": "code",
   "execution_count": 19,
   "id": "76b3d82c",
   "metadata": {},
   "outputs": [
    {
     "data": {
      "text/plain": [
       "Volume Sales No Merch        float64\n",
       "CAG Manufacturer Value        object\n",
       "Price per Volume No Merch    float64\n",
       "Geography_x                   object\n",
       "dtype: object"
      ]
     },
     "execution_count": 19,
     "metadata": {},
     "output_type": "execute_result"
    }
   ],
   "source": [
    "ts_required.dtypes"
   ]
  },
  {
   "cell_type": "code",
   "execution_count": 20,
   "id": "31a62a07",
   "metadata": {},
   "outputs": [],
   "source": [
    "ts_conagra = ts_required.loc[(ts_required[\"CAG Manufacturer Value\"] == \"CONAGRA BRANDS\")]"
   ]
  },
  {
   "cell_type": "code",
   "execution_count": 21,
   "id": "fa851ccd",
   "metadata": {},
   "outputs": [
    {
     "name": "stdout",
     "output_type": "stream",
     "text": [
      "['CONAGRA BRANDS']\n"
     ]
    }
   ],
   "source": [
    "print(ts_conagra[\"CAG Manufacturer Value\"].unique())"
   ]
  },
  {
   "cell_type": "code",
   "execution_count": 22,
   "id": "722daeaf",
   "metadata": {},
   "outputs": [
    {
     "name": "stdout",
     "output_type": "stream",
     "text": [
      "['Total US - Multi Outlet + Conv'\n",
      " 'California - IRI Standard - Multi Outlet + Conv'\n",
      " 'Great Lakes - IRI Standard - Multi Outlet + Conv'\n",
      " 'Mid-South - IRI Standard - Multi Outlet + Conv'\n",
      " 'Northeast - IRI Standard - Multi Outlet + Conv'\n",
      " 'Plains - IRI Standard - Multi Outlet + Conv'\n",
      " 'South Central - IRI Standard - Multi Outlet + Conv'\n",
      " 'Southeast - IRI Standard - Multi Outlet + Conv'\n",
      " 'West - IRI Standard - Multi Outlet + Conv']\n"
     ]
    }
   ],
   "source": [
    "print(ts_required[\"Geography_x\"].unique())"
   ]
  },
  {
   "cell_type": "code",
   "execution_count": 23,
   "id": "f37a726f",
   "metadata": {},
   "outputs": [
    {
     "data": {
      "text/html": [
       "<div>\n",
       "<style scoped>\n",
       "    .dataframe tbody tr th:only-of-type {\n",
       "        vertical-align: middle;\n",
       "    }\n",
       "\n",
       "    .dataframe tbody tr th {\n",
       "        vertical-align: top;\n",
       "    }\n",
       "\n",
       "    .dataframe thead th {\n",
       "        text-align: right;\n",
       "    }\n",
       "</style>\n",
       "<table border=\"1\" class=\"dataframe\">\n",
       "  <thead>\n",
       "    <tr style=\"text-align: right;\">\n",
       "      <th></th>\n",
       "      <th>Volume Sales No Merch</th>\n",
       "      <th>CAG Manufacturer Value</th>\n",
       "      <th>Price per Volume No Merch</th>\n",
       "      <th>Geography_x</th>\n",
       "    </tr>\n",
       "  </thead>\n",
       "  <tbody>\n",
       "    <tr>\n",
       "      <th>0</th>\n",
       "      <td>1.241794e+06</td>\n",
       "      <td>CONAGRA BRANDS</td>\n",
       "      <td>1.011426</td>\n",
       "      <td>Total US - Multi Outlet + Conv</td>\n",
       "    </tr>\n",
       "    <tr>\n",
       "      <th>1</th>\n",
       "      <td>1.525283e+05</td>\n",
       "      <td>CONAGRA BRANDS</td>\n",
       "      <td>0.988020</td>\n",
       "      <td>Total US - Multi Outlet + Conv</td>\n",
       "    </tr>\n",
       "    <tr>\n",
       "      <th>2</th>\n",
       "      <td>1.736027e+04</td>\n",
       "      <td>CONAGRA BRANDS</td>\n",
       "      <td>1.002306</td>\n",
       "      <td>Total US - Multi Outlet + Conv</td>\n",
       "    </tr>\n",
       "    <tr>\n",
       "      <th>3</th>\n",
       "      <td>3.054180e+05</td>\n",
       "      <td>CONAGRA BRANDS</td>\n",
       "      <td>0.941813</td>\n",
       "      <td>Total US - Multi Outlet + Conv</td>\n",
       "    </tr>\n",
       "    <tr>\n",
       "      <th>4</th>\n",
       "      <td>2.139030e+05</td>\n",
       "      <td>CONAGRA BRANDS</td>\n",
       "      <td>1.683936</td>\n",
       "      <td>Total US - Multi Outlet + Conv</td>\n",
       "    </tr>\n",
       "    <tr>\n",
       "      <th>...</th>\n",
       "      <td>...</td>\n",
       "      <td>...</td>\n",
       "      <td>...</td>\n",
       "      <td>...</td>\n",
       "    </tr>\n",
       "    <tr>\n",
       "      <th>1316268</th>\n",
       "      <td>4.120045e+01</td>\n",
       "      <td>CONAGRA BRANDS</td>\n",
       "      <td>7.556513</td>\n",
       "      <td>West - IRI Standard - Multi Outlet + Conv</td>\n",
       "    </tr>\n",
       "    <tr>\n",
       "      <th>1316269</th>\n",
       "      <td>1.522821e+04</td>\n",
       "      <td>CONAGRA BRANDS</td>\n",
       "      <td>5.176604</td>\n",
       "      <td>West - IRI Standard - Multi Outlet + Conv</td>\n",
       "    </tr>\n",
       "    <tr>\n",
       "      <th>1316270</th>\n",
       "      <td>1.208547e+03</td>\n",
       "      <td>CONAGRA BRANDS</td>\n",
       "      <td>5.346315</td>\n",
       "      <td>West - IRI Standard - Multi Outlet + Conv</td>\n",
       "    </tr>\n",
       "    <tr>\n",
       "      <th>1316271</th>\n",
       "      <td>4.822417e+02</td>\n",
       "      <td>CONAGRA BRANDS</td>\n",
       "      <td>5.706442</td>\n",
       "      <td>West - IRI Standard - Multi Outlet + Conv</td>\n",
       "    </tr>\n",
       "    <tr>\n",
       "      <th>1316272</th>\n",
       "      <td>1.892351e+04</td>\n",
       "      <td>CONAGRA BRANDS</td>\n",
       "      <td>3.248835</td>\n",
       "      <td>West - IRI Standard - Multi Outlet + Conv</td>\n",
       "    </tr>\n",
       "  </tbody>\n",
       "</table>\n",
       "<p>110568 rows × 4 columns</p>\n",
       "</div>"
      ],
      "text/plain": [
       "         Volume Sales No Merch CAG Manufacturer Value  \\\n",
       "0                 1.241794e+06         CONAGRA BRANDS   \n",
       "1                 1.525283e+05         CONAGRA BRANDS   \n",
       "2                 1.736027e+04         CONAGRA BRANDS   \n",
       "3                 3.054180e+05         CONAGRA BRANDS   \n",
       "4                 2.139030e+05         CONAGRA BRANDS   \n",
       "...                        ...                    ...   \n",
       "1316268           4.120045e+01         CONAGRA BRANDS   \n",
       "1316269           1.522821e+04         CONAGRA BRANDS   \n",
       "1316270           1.208547e+03         CONAGRA BRANDS   \n",
       "1316271           4.822417e+02         CONAGRA BRANDS   \n",
       "1316272           1.892351e+04         CONAGRA BRANDS   \n",
       "\n",
       "         Price per Volume No Merch                                Geography_x  \n",
       "0                         1.011426             Total US - Multi Outlet + Conv  \n",
       "1                         0.988020             Total US - Multi Outlet + Conv  \n",
       "2                         1.002306             Total US - Multi Outlet + Conv  \n",
       "3                         0.941813             Total US - Multi Outlet + Conv  \n",
       "4                         1.683936             Total US - Multi Outlet + Conv  \n",
       "...                            ...                                        ...  \n",
       "1316268                   7.556513  West - IRI Standard - Multi Outlet + Conv  \n",
       "1316269                   5.176604  West - IRI Standard - Multi Outlet + Conv  \n",
       "1316270                   5.346315  West - IRI Standard - Multi Outlet + Conv  \n",
       "1316271                   5.706442  West - IRI Standard - Multi Outlet + Conv  \n",
       "1316272                   3.248835  West - IRI Standard - Multi Outlet + Conv  \n",
       "\n",
       "[110568 rows x 4 columns]"
      ]
     },
     "execution_count": 23,
     "metadata": {},
     "output_type": "execute_result"
    }
   ],
   "source": [
    "ts_conagra"
   ]
  },
  {
   "cell_type": "code",
   "execution_count": 24,
   "id": "2569fdda",
   "metadata": {},
   "outputs": [],
   "source": [
    "import numpy as np"
   ]
  },
  {
   "cell_type": "code",
   "execution_count": 25,
   "id": "f4619c2a",
   "metadata": {},
   "outputs": [],
   "source": [
    "from sklearn.model_selection import train_test_split\n",
    "from sklearn.preprocessing import OneHotEncoder\n",
    "from sklearn.linear_model import LinearRegression"
   ]
  },
  {
   "cell_type": "code",
   "execution_count": 26,
   "id": "dd6f599e",
   "metadata": {},
   "outputs": [],
   "source": [
    "# encode categorical variables using one-hot encoding\n",
    "ts_conagra = pd.get_dummies(ts_conagra, columns=['Geography_x'],drop_first=True)"
   ]
  },
  {
   "cell_type": "code",
   "execution_count": 27,
   "id": "0d35e115",
   "metadata": {},
   "outputs": [],
   "source": [
    "ts_conagra = ts_conagra.replace([np.inf, -np.inf], np.nan)\n",
    "ts_conagra = ts_conagra.dropna()\n",
    "ts_conagra = ts_conagra.reset_index()"
   ]
  },
  {
   "cell_type": "code",
   "execution_count": 28,
   "id": "f85ac55a",
   "metadata": {},
   "outputs": [
    {
     "data": {
      "text/plain": [
       "index                                                               int64\n",
       "Volume Sales No Merch                                             float64\n",
       "CAG Manufacturer Value                                             object\n",
       "Price per Volume No Merch                                         float64\n",
       "Geography_x_Great Lakes - IRI Standard - Multi Outlet + Conv        uint8\n",
       "Geography_x_Mid-South - IRI Standard - Multi Outlet + Conv          uint8\n",
       "Geography_x_Northeast - IRI Standard - Multi Outlet + Conv          uint8\n",
       "Geography_x_Plains - IRI Standard - Multi Outlet + Conv             uint8\n",
       "Geography_x_South Central - IRI Standard - Multi Outlet + Conv      uint8\n",
       "Geography_x_Southeast - IRI Standard - Multi Outlet + Conv          uint8\n",
       "Geography_x_Total US - Multi Outlet + Conv                          uint8\n",
       "Geography_x_West - IRI Standard - Multi Outlet + Conv               uint8\n",
       "dtype: object"
      ]
     },
     "execution_count": 28,
     "metadata": {},
     "output_type": "execute_result"
    }
   ],
   "source": [
    "ts_conagra.dtypes"
   ]
  },
  {
   "cell_type": "code",
   "execution_count": 29,
   "id": "04bdaef5",
   "metadata": {},
   "outputs": [],
   "source": [
    "# split the dataset into training and testing sets\n",
    "X_train, X_test, y_train, y_test = train_test_split(ts_conagra.drop(['index','Volume Sales No Merch','CAG Manufacturer Value'], axis=1), ts_conagra['Volume Sales No Merch'], test_size=0.2, random_state=42)"
   ]
  },
  {
   "cell_type": "code",
   "execution_count": 30,
   "id": "f6c634f0",
   "metadata": {},
   "outputs": [
    {
     "data": {
      "text/plain": [
       "LinearRegression()"
      ]
     },
     "execution_count": 30,
     "metadata": {},
     "output_type": "execute_result"
    }
   ],
   "source": [
    "# build the regression model\n",
    "reg_model = LinearRegression()\n",
    "reg_model.fit(X_train, y_train)"
   ]
  },
  {
   "cell_type": "code",
   "execution_count": 31,
   "id": "1c404635",
   "metadata": {},
   "outputs": [
    {
     "name": "stdout",
     "output_type": "stream",
     "text": [
      "R-squared value: 0.0947542615582242\n"
     ]
    }
   ],
   "source": [
    "# evaluate the model on the testing data\n",
    "score = reg_model.score(X_test, y_test)\n",
    "print('R-squared value:', score)"
   ]
  },
  {
   "cell_type": "code",
   "execution_count": 32,
   "id": "9c69383a",
   "metadata": {},
   "outputs": [],
   "source": [
    "# provide a regression equation for predictions\n",
    "intercept = reg_model.intercept_\n",
    "coefficients = reg_model.coef_"
   ]
  },
  {
   "cell_type": "code",
   "execution_count": 33,
   "id": "68283db4",
   "metadata": {},
   "outputs": [
    {
     "name": "stdout",
     "output_type": "stream",
     "text": [
      "31671.18885126884\n",
      "[-6892.09361255  3426.22805639  7482.9318352   3151.26130755\n",
      "   818.43864286  3458.19398109  7699.82402937 48338.45943016\n",
      " -1020.05242531]\n"
     ]
    }
   ],
   "source": [
    "print(intercept)\n",
    "print(coefficients)"
   ]
  },
  {
   "cell_type": "code",
   "execution_count": 34,
   "id": "46e44681",
   "metadata": {},
   "outputs": [],
   "source": [
    "# merchendise effect"
   ]
  },
  {
   "cell_type": "code",
   "execution_count": 35,
   "id": "b1f76f7d",
   "metadata": {},
   "outputs": [],
   "source": [
    "#ts_joined.dtypes"
   ]
  },
  {
   "cell_type": "code",
   "execution_count": 36,
   "id": "7bf22610",
   "metadata": {},
   "outputs": [],
   "source": [
    "merch = ts_joined[[\"Volume Sales No Merch\", \"Volume Sales Any Merch\", \"Price per Volume No Merch\", \"Price per Volume Any Merch\", \"CAG Manufacturer Value\", \"CAG Form Value\"]]"
   ]
  },
  {
   "cell_type": "code",
   "execution_count": 37,
   "id": "516f8f93",
   "metadata": {},
   "outputs": [],
   "source": [
    "merch_conagra = merch.loc[(merch[\"CAG Manufacturer Value\"] == \"CONAGRA BRANDS\")]"
   ]
  },
  {
   "cell_type": "code",
   "execution_count": 38,
   "id": "dbd5e023",
   "metadata": {},
   "outputs": [
    {
     "data": {
      "text/html": [
       "<div>\n",
       "<style scoped>\n",
       "    .dataframe tbody tr th:only-of-type {\n",
       "        vertical-align: middle;\n",
       "    }\n",
       "\n",
       "    .dataframe tbody tr th {\n",
       "        vertical-align: top;\n",
       "    }\n",
       "\n",
       "    .dataframe thead th {\n",
       "        text-align: right;\n",
       "    }\n",
       "</style>\n",
       "<table border=\"1\" class=\"dataframe\">\n",
       "  <thead>\n",
       "    <tr style=\"text-align: right;\">\n",
       "      <th></th>\n",
       "      <th>Volume Sales No Merch</th>\n",
       "      <th>Volume Sales Any Merch</th>\n",
       "      <th>Price per Volume No Merch</th>\n",
       "      <th>Price per Volume Any Merch</th>\n",
       "      <th>CAG Manufacturer Value</th>\n",
       "      <th>CAG Form Value</th>\n",
       "    </tr>\n",
       "  </thead>\n",
       "  <tbody>\n",
       "    <tr>\n",
       "      <th>0</th>\n",
       "      <td>1.241794e+06</td>\n",
       "      <td>182993.872299</td>\n",
       "      <td>1.011426</td>\n",
       "      <td>0.920339</td>\n",
       "      <td>CONAGRA BRANDS</td>\n",
       "      <td>ALL OTHER FORM</td>\n",
       "    </tr>\n",
       "    <tr>\n",
       "      <th>1</th>\n",
       "      <td>1.525283e+05</td>\n",
       "      <td>17263.338023</td>\n",
       "      <td>0.988020</td>\n",
       "      <td>0.902127</td>\n",
       "      <td>CONAGRA BRANDS</td>\n",
       "      <td>STICKS</td>\n",
       "    </tr>\n",
       "    <tr>\n",
       "      <th>2</th>\n",
       "      <td>1.736027e+04</td>\n",
       "      <td>717.499949</td>\n",
       "      <td>1.002306</td>\n",
       "      <td>0.898114</td>\n",
       "      <td>CONAGRA BRANDS</td>\n",
       "      <td>STICKS</td>\n",
       "    </tr>\n",
       "    <tr>\n",
       "      <th>3</th>\n",
       "      <td>3.054180e+05</td>\n",
       "      <td>16623.080285</td>\n",
       "      <td>0.941813</td>\n",
       "      <td>0.847538</td>\n",
       "      <td>CONAGRA BRANDS</td>\n",
       "      <td>STICKS</td>\n",
       "    </tr>\n",
       "    <tr>\n",
       "      <th>4</th>\n",
       "      <td>2.139030e+05</td>\n",
       "      <td>35242.316041</td>\n",
       "      <td>1.683936</td>\n",
       "      <td>1.493064</td>\n",
       "      <td>CONAGRA BRANDS</td>\n",
       "      <td>TUBS</td>\n",
       "    </tr>\n",
       "  </tbody>\n",
       "</table>\n",
       "</div>"
      ],
      "text/plain": [
       "   Volume Sales No Merch  Volume Sales Any Merch  Price per Volume No Merch  \\\n",
       "0           1.241794e+06           182993.872299                   1.011426   \n",
       "1           1.525283e+05            17263.338023                   0.988020   \n",
       "2           1.736027e+04              717.499949                   1.002306   \n",
       "3           3.054180e+05            16623.080285                   0.941813   \n",
       "4           2.139030e+05            35242.316041                   1.683936   \n",
       "\n",
       "   Price per Volume Any Merch CAG Manufacturer Value  CAG Form Value  \n",
       "0                    0.920339         CONAGRA BRANDS  ALL OTHER FORM  \n",
       "1                    0.902127         CONAGRA BRANDS          STICKS  \n",
       "2                    0.898114         CONAGRA BRANDS          STICKS  \n",
       "3                    0.847538         CONAGRA BRANDS          STICKS  \n",
       "4                    1.493064         CONAGRA BRANDS            TUBS  "
      ]
     },
     "execution_count": 38,
     "metadata": {},
     "output_type": "execute_result"
    }
   ],
   "source": [
    "merch_conagra.head()"
   ]
  },
  {
   "cell_type": "code",
   "execution_count": 39,
   "id": "f2d62832",
   "metadata": {},
   "outputs": [
    {
     "name": "stderr",
     "output_type": "stream",
     "text": [
      "C:\\Users\\arshi\\AppData\\Local\\Temp\\ipykernel_15756\\3318527985.py:1: SettingWithCopyWarning: \n",
      "A value is trying to be set on a copy of a slice from a DataFrame.\n",
      "Try using .loc[row_indexer,col_indexer] = value instead\n",
      "\n",
      "See the caveats in the documentation: https://pandas.pydata.org/pandas-docs/stable/user_guide/indexing.html#returning-a-view-versus-a-copy\n",
      "  merch_conagra[\"%_inc_in_sales\"] = (merch_conagra[\"Volume Sales Any Merch\"]/merch_conagra[\"Volume Sales No Merch\"])*100\n",
      "C:\\Users\\arshi\\AppData\\Local\\Temp\\ipykernel_15756\\3318527985.py:2: SettingWithCopyWarning: \n",
      "A value is trying to be set on a copy of a slice from a DataFrame.\n",
      "Try using .loc[row_indexer,col_indexer] = value instead\n",
      "\n",
      "See the caveats in the documentation: https://pandas.pydata.org/pandas-docs/stable/user_guide/indexing.html#returning-a-view-versus-a-copy\n",
      "  merch_conagra[\"reduced_price\"] = merch_conagra[\"Price per Volume No Merch\"] - merch_conagra[\"Price per Volume Any Merch\"]\n"
     ]
    }
   ],
   "source": [
    "merch_conagra[\"%_inc_in_sales\"] = (merch_conagra[\"Volume Sales Any Merch\"]/merch_conagra[\"Volume Sales No Merch\"])*100\n",
    "merch_conagra[\"reduced_price\"] = merch_conagra[\"Price per Volume No Merch\"] - merch_conagra[\"Price per Volume Any Merch\"]"
   ]
  },
  {
   "cell_type": "code",
   "execution_count": 40,
   "id": "8d57957f",
   "metadata": {},
   "outputs": [
    {
     "data": {
      "text/html": [
       "<div>\n",
       "<style scoped>\n",
       "    .dataframe tbody tr th:only-of-type {\n",
       "        vertical-align: middle;\n",
       "    }\n",
       "\n",
       "    .dataframe tbody tr th {\n",
       "        vertical-align: top;\n",
       "    }\n",
       "\n",
       "    .dataframe thead th {\n",
       "        text-align: right;\n",
       "    }\n",
       "</style>\n",
       "<table border=\"1\" class=\"dataframe\">\n",
       "  <thead>\n",
       "    <tr style=\"text-align: right;\">\n",
       "      <th></th>\n",
       "      <th>Volume Sales No Merch</th>\n",
       "      <th>Volume Sales Any Merch</th>\n",
       "      <th>Price per Volume No Merch</th>\n",
       "      <th>Price per Volume Any Merch</th>\n",
       "      <th>CAG Manufacturer Value</th>\n",
       "      <th>CAG Form Value</th>\n",
       "      <th>%_inc_in_sales</th>\n",
       "      <th>reduced_price</th>\n",
       "    </tr>\n",
       "  </thead>\n",
       "  <tbody>\n",
       "    <tr>\n",
       "      <th>0</th>\n",
       "      <td>1.241794e+06</td>\n",
       "      <td>182993.872299</td>\n",
       "      <td>1.011426</td>\n",
       "      <td>0.920339</td>\n",
       "      <td>CONAGRA BRANDS</td>\n",
       "      <td>ALL OTHER FORM</td>\n",
       "      <td>14.736252</td>\n",
       "      <td>0.091086</td>\n",
       "    </tr>\n",
       "    <tr>\n",
       "      <th>1</th>\n",
       "      <td>1.525283e+05</td>\n",
       "      <td>17263.338023</td>\n",
       "      <td>0.988020</td>\n",
       "      <td>0.902127</td>\n",
       "      <td>CONAGRA BRANDS</td>\n",
       "      <td>STICKS</td>\n",
       "      <td>11.318121</td>\n",
       "      <td>0.085893</td>\n",
       "    </tr>\n",
       "    <tr>\n",
       "      <th>2</th>\n",
       "      <td>1.736027e+04</td>\n",
       "      <td>717.499949</td>\n",
       "      <td>1.002306</td>\n",
       "      <td>0.898114</td>\n",
       "      <td>CONAGRA BRANDS</td>\n",
       "      <td>STICKS</td>\n",
       "      <td>4.133000</td>\n",
       "      <td>0.104192</td>\n",
       "    </tr>\n",
       "    <tr>\n",
       "      <th>3</th>\n",
       "      <td>3.054180e+05</td>\n",
       "      <td>16623.080285</td>\n",
       "      <td>0.941813</td>\n",
       "      <td>0.847538</td>\n",
       "      <td>CONAGRA BRANDS</td>\n",
       "      <td>STICKS</td>\n",
       "      <td>5.442731</td>\n",
       "      <td>0.094275</td>\n",
       "    </tr>\n",
       "    <tr>\n",
       "      <th>4</th>\n",
       "      <td>2.139030e+05</td>\n",
       "      <td>35242.316041</td>\n",
       "      <td>1.683936</td>\n",
       "      <td>1.493064</td>\n",
       "      <td>CONAGRA BRANDS</td>\n",
       "      <td>TUBS</td>\n",
       "      <td>16.475843</td>\n",
       "      <td>0.190873</td>\n",
       "    </tr>\n",
       "  </tbody>\n",
       "</table>\n",
       "</div>"
      ],
      "text/plain": [
       "   Volume Sales No Merch  Volume Sales Any Merch  Price per Volume No Merch  \\\n",
       "0           1.241794e+06           182993.872299                   1.011426   \n",
       "1           1.525283e+05            17263.338023                   0.988020   \n",
       "2           1.736027e+04              717.499949                   1.002306   \n",
       "3           3.054180e+05            16623.080285                   0.941813   \n",
       "4           2.139030e+05            35242.316041                   1.683936   \n",
       "\n",
       "   Price per Volume Any Merch CAG Manufacturer Value  CAG Form Value  \\\n",
       "0                    0.920339         CONAGRA BRANDS  ALL OTHER FORM   \n",
       "1                    0.902127         CONAGRA BRANDS          STICKS   \n",
       "2                    0.898114         CONAGRA BRANDS          STICKS   \n",
       "3                    0.847538         CONAGRA BRANDS          STICKS   \n",
       "4                    1.493064         CONAGRA BRANDS            TUBS   \n",
       "\n",
       "   %_inc_in_sales  reduced_price  \n",
       "0       14.736252       0.091086  \n",
       "1       11.318121       0.085893  \n",
       "2        4.133000       0.104192  \n",
       "3        5.442731       0.094275  \n",
       "4       16.475843       0.190873  "
      ]
     },
     "execution_count": 40,
     "metadata": {},
     "output_type": "execute_result"
    }
   ],
   "source": [
    "merch_conagra.head()"
   ]
  },
  {
   "cell_type": "code",
   "execution_count": 41,
   "id": "c19d149c",
   "metadata": {},
   "outputs": [
    {
     "data": {
      "text/html": [
       "<div>\n",
       "<style scoped>\n",
       "    .dataframe tbody tr th:only-of-type {\n",
       "        vertical-align: middle;\n",
       "    }\n",
       "\n",
       "    .dataframe tbody tr th {\n",
       "        vertical-align: top;\n",
       "    }\n",
       "\n",
       "    .dataframe thead th {\n",
       "        text-align: right;\n",
       "    }\n",
       "</style>\n",
       "<table border=\"1\" class=\"dataframe\">\n",
       "  <thead>\n",
       "    <tr style=\"text-align: right;\">\n",
       "      <th></th>\n",
       "      <th>Volume Sales No Merch</th>\n",
       "      <th>Volume Sales Any Merch</th>\n",
       "      <th>Price per Volume No Merch</th>\n",
       "      <th>Price per Volume Any Merch</th>\n",
       "      <th>CAG Form Value</th>\n",
       "      <th>%_inc_in_sales</th>\n",
       "      <th>reduced_price</th>\n",
       "    </tr>\n",
       "  </thead>\n",
       "  <tbody>\n",
       "    <tr>\n",
       "      <th>0</th>\n",
       "      <td>1.241794e+06</td>\n",
       "      <td>182993.872299</td>\n",
       "      <td>1.011426</td>\n",
       "      <td>0.920339</td>\n",
       "      <td>ALL OTHER FORM</td>\n",
       "      <td>14.736252</td>\n",
       "      <td>0.091086</td>\n",
       "    </tr>\n",
       "    <tr>\n",
       "      <th>1</th>\n",
       "      <td>1.525283e+05</td>\n",
       "      <td>17263.338023</td>\n",
       "      <td>0.988020</td>\n",
       "      <td>0.902127</td>\n",
       "      <td>STICKS</td>\n",
       "      <td>11.318121</td>\n",
       "      <td>0.085893</td>\n",
       "    </tr>\n",
       "    <tr>\n",
       "      <th>2</th>\n",
       "      <td>1.736027e+04</td>\n",
       "      <td>717.499949</td>\n",
       "      <td>1.002306</td>\n",
       "      <td>0.898114</td>\n",
       "      <td>STICKS</td>\n",
       "      <td>4.133000</td>\n",
       "      <td>0.104192</td>\n",
       "    </tr>\n",
       "    <tr>\n",
       "      <th>3</th>\n",
       "      <td>3.054180e+05</td>\n",
       "      <td>16623.080285</td>\n",
       "      <td>0.941813</td>\n",
       "      <td>0.847538</td>\n",
       "      <td>STICKS</td>\n",
       "      <td>5.442731</td>\n",
       "      <td>0.094275</td>\n",
       "    </tr>\n",
       "    <tr>\n",
       "      <th>4</th>\n",
       "      <td>2.139030e+05</td>\n",
       "      <td>35242.316041</td>\n",
       "      <td>1.683936</td>\n",
       "      <td>1.493064</td>\n",
       "      <td>TUBS</td>\n",
       "      <td>16.475843</td>\n",
       "      <td>0.190873</td>\n",
       "    </tr>\n",
       "  </tbody>\n",
       "</table>\n",
       "</div>"
      ],
      "text/plain": [
       "   Volume Sales No Merch  Volume Sales Any Merch  Price per Volume No Merch  \\\n",
       "0           1.241794e+06           182993.872299                   1.011426   \n",
       "1           1.525283e+05            17263.338023                   0.988020   \n",
       "2           1.736027e+04              717.499949                   1.002306   \n",
       "3           3.054180e+05            16623.080285                   0.941813   \n",
       "4           2.139030e+05            35242.316041                   1.683936   \n",
       "\n",
       "   Price per Volume Any Merch  CAG Form Value  %_inc_in_sales  reduced_price  \n",
       "0                    0.920339  ALL OTHER FORM       14.736252       0.091086  \n",
       "1                    0.902127          STICKS       11.318121       0.085893  \n",
       "2                    0.898114          STICKS        4.133000       0.104192  \n",
       "3                    0.847538          STICKS        5.442731       0.094275  \n",
       "4                    1.493064            TUBS       16.475843       0.190873  "
      ]
     },
     "execution_count": 41,
     "metadata": {},
     "output_type": "execute_result"
    }
   ],
   "source": [
    "merch_conagra = merch_conagra.drop(\"CAG Manufacturer Value\", axis=1)\n",
    "merch_conagra.head()"
   ]
  },
  {
   "cell_type": "code",
   "execution_count": 42,
   "id": "0fdf0c5a",
   "metadata": {},
   "outputs": [
    {
     "name": "stdout",
     "output_type": "stream",
     "text": [
      "['ALL OTHER FORM' 'STICKS' 'TUBS' 'SPRAY/SQUEEZE']\n"
     ]
    }
   ],
   "source": [
    "print(merch_conagra[\"CAG Form Value\"].unique())"
   ]
  },
  {
   "cell_type": "code",
   "execution_count": 43,
   "id": "387f46e7",
   "metadata": {},
   "outputs": [],
   "source": [
    "# encode categorical variables using one-hot encoding\n",
    "merch_conagra = pd.get_dummies(merch_conagra, columns=['CAG Form Value'],drop_first=True)"
   ]
  },
  {
   "cell_type": "code",
   "execution_count": 44,
   "id": "02f87ab8",
   "metadata": {},
   "outputs": [
    {
     "data": {
      "text/plain": [
       "Volume Sales No Merch           float64\n",
       "Volume Sales Any Merch          float64\n",
       "Price per Volume No Merch       float64\n",
       "Price per Volume Any Merch      float64\n",
       "%_inc_in_sales                  float64\n",
       "reduced_price                   float64\n",
       "CAG Form Value_SPRAY/SQUEEZE      uint8\n",
       "CAG Form Value_STICKS             uint8\n",
       "CAG Form Value_TUBS               uint8\n",
       "dtype: object"
      ]
     },
     "execution_count": 44,
     "metadata": {},
     "output_type": "execute_result"
    }
   ],
   "source": [
    "merch_conagra.dtypes"
   ]
  },
  {
   "cell_type": "code",
   "execution_count": 45,
   "id": "7531aba4",
   "metadata": {},
   "outputs": [],
   "source": [
    "merch_conagra = merch_conagra.drop([\"Volume Sales No Merch\", \"Volume Sales Any Merch\", \"Price per Volume No Merch\", \"Price per Volume Any Merch\"], axis=1)"
   ]
  },
  {
   "cell_type": "code",
   "execution_count": 46,
   "id": "7aa95b0a",
   "metadata": {},
   "outputs": [],
   "source": [
    "merch_conagra = merch_conagra.replace([np.inf, -np.inf], np.nan)\n",
    "merch_conagra = merch_conagra.dropna()\n",
    "merch_conagra = merch_conagra.reset_index()"
   ]
  },
  {
   "cell_type": "code",
   "execution_count": 47,
   "id": "f220b418",
   "metadata": {},
   "outputs": [
    {
     "data": {
      "text/plain": [
       "index                             int64\n",
       "%_inc_in_sales                  float64\n",
       "reduced_price                   float64\n",
       "CAG Form Value_SPRAY/SQUEEZE      uint8\n",
       "CAG Form Value_STICKS             uint8\n",
       "CAG Form Value_TUBS               uint8\n",
       "dtype: object"
      ]
     },
     "execution_count": 47,
     "metadata": {},
     "output_type": "execute_result"
    }
   ],
   "source": [
    "merch_conagra.dtypes"
   ]
  },
  {
   "cell_type": "code",
   "execution_count": 48,
   "id": "895b3ee1",
   "metadata": {},
   "outputs": [],
   "source": [
    "corr = merch_conagra['%_inc_in_sales'].corr(merch_conagra['reduced_price'])"
   ]
  },
  {
   "cell_type": "code",
   "execution_count": 53,
   "id": "7a15f529",
   "metadata": {},
   "outputs": [
    {
     "data": {
      "text/plain": [
       "0.025114953402102836"
      ]
     },
     "execution_count": 53,
     "metadata": {},
     "output_type": "execute_result"
    }
   ],
   "source": [
    "corr"
   ]
  },
  {
   "cell_type": "code",
   "execution_count": 49,
   "id": "8b4d700b",
   "metadata": {},
   "outputs": [],
   "source": [
    "# split the dataset into training and testing sets\n",
    "X_train, X_test, y_train, y_test = train_test_split(merch_conagra.drop([\"index\", \"%_inc_in_sales\"],axis =1), merch_conagra['%_inc_in_sales'], test_size=0.2, random_state=42)"
   ]
  },
  {
   "cell_type": "code",
   "execution_count": 50,
   "id": "209f129d",
   "metadata": {},
   "outputs": [
    {
     "data": {
      "text/plain": [
       "LinearRegression()"
      ]
     },
     "execution_count": 50,
     "metadata": {},
     "output_type": "execute_result"
    }
   ],
   "source": [
    "reg_model_merch = LinearRegression()\n",
    "reg_model_merch.fit(X_train, y_train)"
   ]
  },
  {
   "cell_type": "code",
   "execution_count": 54,
   "id": "734a154b",
   "metadata": {},
   "outputs": [],
   "source": [
    "# evaluate the model on the testing data\n",
    "score_merch = reg_model_merch.score(X_test, y_test)"
   ]
  },
  {
   "cell_type": "code",
   "execution_count": 52,
   "id": "227f5b9a",
   "metadata": {},
   "outputs": [
    {
     "name": "stdout",
     "output_type": "stream",
     "text": [
      "-11.390012000302335\n",
      "[380.15317761 372.84851657 162.49948683 -12.62521698]\n"
     ]
    }
   ],
   "source": [
    "# provide a regression equation for predictions\n",
    "intercept_merch = reg_model_merch.intercept_\n",
    "coefficients_merch = reg_model_merch.coef_\n",
    "\n",
    "print(intercept_merch)\n",
    "print(coefficients_merch)"
   ]
  }
 ],
 "metadata": {
  "kernelspec": {
   "display_name": "Python 3 (ipykernel)",
   "language": "python",
   "name": "python3"
  },
  "language_info": {
   "codemirror_mode": {
    "name": "ipython",
    "version": 3
   },
   "file_extension": ".py",
   "mimetype": "text/x-python",
   "name": "python",
   "nbconvert_exporter": "python",
   "pygments_lexer": "ipython3",
   "version": "3.9.12"
  }
 },
 "nbformat": 4,
 "nbformat_minor": 5
}
